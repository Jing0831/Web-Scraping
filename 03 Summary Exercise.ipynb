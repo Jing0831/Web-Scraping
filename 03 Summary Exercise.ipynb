{
 "cells": [
  {
   "cell_type": "markdown",
   "metadata": {},
   "source": [
    "**<font color=blue> Exercise 1: Use the first import syntax discussed in \"BAN172 5-1 Modules and Packages\" notebook with a function of your choice from the `math` library (Google it!).</font>**"
   ]
  },
  {
   "cell_type": "code",
   "execution_count": 2,
   "metadata": {},
   "outputs": [
    {
     "name": "stdout",
     "output_type": "stream",
     "text": [
      "8.0\n"
     ]
    }
   ],
   "source": [
    "import math\n",
    "x = math.sqrt(64)\n",
    "print(x)\n"
   ]
  },
  {
   "cell_type": "markdown",
   "metadata": {},
   "source": [
    "**<font color=blue>Exercise 2: Practice the second import syntax with the `math` function you explored previously. </font>**"
   ]
  },
  {
   "cell_type": "code",
   "execution_count": 3,
   "metadata": {},
   "outputs": [
    {
     "name": "stdout",
     "output_type": "stream",
     "text": [
      "8.0\n"
     ]
    }
   ],
   "source": [
    "from math import sqrt\n",
    "x = sqrt(64)\n",
    "print(x)\n"
   ]
  },
  {
   "cell_type": "code",
   "execution_count": 1,
   "metadata": {},
   "outputs": [
    {
     "name": "stdout",
     "output_type": "stream",
     "text": [
      "5040\n"
     ]
    }
   ],
   "source": [
    "from math import factorial \n",
    "x = factorial(7) #7!\n",
    "print(x)"
   ]
  },
  {
   "cell_type": "markdown",
   "metadata": {},
   "source": [
    "**<font color=blue>Exercise 3: First modify the code below by defining a variable for the URL and passing on the variable to `urlopen`. Then, test the code with a webpage of your choice and also [this webpage](http://web.ics.purdue.edu/~gchopra/class/public/pages/webdesign/05_simple.html) and try to map the html code to what you see in the browser. </font>**"
   ]
  },
  {
   "cell_type": "code",
   "execution_count": 6,
   "metadata": {},
   "outputs": [
    {
     "name": "stdout",
     "output_type": "stream",
     "text": [
      "b'<html>\\n<head>\\n<title>A Useful Page</title>\\n</head>\\n<body>\\n<h1>An Interesting Title</h1>\\n<div>\\nLorem ipsum dolor sit amet, consectetur adipisicing elit, sed do eiusmod tempor incididunt ut labore et dolore magna aliqua. Ut enim ad minim veniam, quis nostrud exercitation ullamco laboris nisi ut aliquip ex ea commodo consequat. Duis aute irure dolor in reprehenderit in voluptate velit esse cillum dolore eu fugiat nulla pariatur. Excepteur sint occaecat cupidatat non proident, sunt in culpa qui officia deserunt mollit anim id est laborum.\\n</div>\\n</body>\\n</html>\\n'\n"
     ]
    }
   ],
   "source": [
    "from urllib.request import urlopen\n",
    "\n",
    "webpage = 'http://pythonscraping.com/pages/page1.html'\n",
    "html = urlopen(webpage)\n",
    "print(html.read())"
   ]
  },
  {
   "cell_type": "code",
   "execution_count": 8,
   "metadata": {},
   "outputs": [
    {
     "name": "stdout",
     "output_type": "stream",
     "text": [
      "b'<html>\\n\\n<head>\\n<title>A very simple webpage</title>\\n<basefont size=4>\\n</head>\\n\\n<body bgcolor=FFFFFF>\\n\\n<h1>A very simple webpage. This is an \"h1\" level header.</h1>\\n\\n<h2>This is a level h2 header.</h2>\\n\\n<h6>This is a level h6 header.  Pretty small!</h6>\\n\\n<p>This is a standard paragraph.</p>\\n\\n<p align=center>Now I\\'ve aligned it in the center of the screen.</p>\\n\\n<p align=right>Now aligned to the right</p>\\n\\n<p><b>Bold text</b></p>\\n\\n<p><strong>Strongly emphasized text</strong>  Can you tell the difference vs. bold?</p>\\n\\n<p><i>Italics</i></p>\\n\\n<p><em>Emphasized text</em>  Just like Italics!</p>\\n\\n<p>Here is a pretty picture: <img src=example/prettypicture.jpg alt=\"Pretty Picture\"></p>\\n\\n<p>Same thing, aligned differently to the paragraph: <img align=top src=example/prettypicture.jpg alt=\"Pretty Picture\"></p>\\n\\n<hr>\\n\\n<h2>How about a nice ordered list!</h2>\\n<ol>\\n  <li>This little piggy went to market\\n  <li>This little piggy went to SB228 class\\n  <li>This little piggy went to an expensive restaurant in Downtown Palo Alto\\n  <li>This little piggy ate too much at Indian Buffet.\\n  <li>This little piggy got lost\\n</ol>\\n\\n<h2>Unordered list</h2>\\n<ul>\\n  <li>First element\\n  <li>Second element\\n  <li>Third element\\n</ul>\\n\\n<hr>\\n\\n<h2>Nested Lists!</h2>\\n<ul>\\n  <li>Things to to today:\\n    <ol>\\n      <li>Walk the dog\\n      <li>Feed the cat\\n      <li>Mow the lawn\\n    </ol>\\n  <li>Things to do tomorrow:\\n    <ol>\\n      <li>Lunch with mom\\n      <li>Feed the hamster\\n      <li>Clean kitchen\\n    </ol>\\n</ul>\\n\\n<p>And finally, how about some <a href=http://www.yahoo.com/>Links?</a></p>\\n\\n<p>Or let\\'s just link to <a href=../../index.html>another page on this server</a></p>\\n\\n<p>Remember, you can view the HTMl code from this or any other page by using the \"View Page Source\" command of your browser.</p>\\n\\n</body>\\n\\n</html>\\n'\n"
     ]
    }
   ],
   "source": [
    "from urllib.request import urlopen\n",
    "\n",
    "webpage = 'https://web.ics.purdue.edu/~gchopra/class/public/pages/webdesign/05_simple.html'\n",
    "html2 = urlopen(webpage)\n",
    "print(html2.read())"
   ]
  },
  {
   "cell_type": "markdown",
   "metadata": {},
   "source": [
    "**<font color=blue>Exercise 4: Write a code to capture and print the title, a paragraph, and/or any element of your choice of the two webpages you tested in the previous exercise.**</font>"
   ]
  },
  {
   "cell_type": "code",
   "execution_count": 2,
   "metadata": {
    "scrolled": true
   },
   "outputs": [
    {
     "name": "stdout",
     "output_type": "stream",
     "text": [
      "<title>A Useful Page</title>\n",
      "None\n",
      "None\n"
     ]
    }
   ],
   "source": [
    "from bs4 import BeautifulSoup\n",
    "from urllib.request import urlopen\n",
    "\n",
    "webpage = 'http://pythonscraping.com/pages/page1.html'\n",
    "html = urlopen(webpage)\n",
    "bs = BeautifulSoup(html.read(), 'html.parser')\n",
    "print(bs.title)\n",
    "print(bs.p)\n",
    "print(bs.b)"
   ]
  },
  {
   "cell_type": "code",
   "execution_count": 3,
   "metadata": {},
   "outputs": [
    {
     "name": "stdout",
     "output_type": "stream",
     "text": [
      "<h6>This is a level h6 header.  Pretty small!</h6>\n",
      "<title>A very simple webpage</title>\n",
      "<p>This is a standard paragraph.</p>\n",
      "<b>Bold text</b>\n"
     ]
    }
   ],
   "source": [
    "from bs4 import BeautifulSoup\n",
    "from urllib.request import urlopen\n",
    "webpage = 'https://web.ics.purdue.edu/~gchopra/class/public/pages/webdesign/05_simple.html'\n",
    "html2 = urlopen(webpage)\n",
    "bs = BeautifulSoup(html2.read(), 'html.parser')\n",
    "print(bs.h6)\n",
    "print(bs.title)\n",
    "print(bs.p)\n",
    "print(bs.b)"
   ]
  },
  {
   "cell_type": "markdown",
   "metadata": {},
   "source": [
    "**<font color=blue>Exercise 5: Run the code in the preivous exercise with another parser.**</font>"
   ]
  },
  {
   "cell_type": "code",
   "execution_count": 4,
   "metadata": {},
   "outputs": [
    {
     "name": "stdout",
     "output_type": "stream",
     "text": [
      "<h6>This is a level h6 header.  Pretty small!</h6>\n",
      "<p>This is a standard paragraph.</p>\n"
     ]
    }
   ],
   "source": [
    "from bs4 import BeautifulSoup\n",
    "from urllib.request import urlopen\n",
    "\n",
    "webpage = 'https://web.ics.purdue.edu/~gchopra/class/public/pages/webdesign/05_simple.html'\n",
    "html2 = urlopen(webpage)\n",
    "bs = BeautifulSoup(html2.read(), 'lxml')\n",
    "print(bs.h6)\n",
    "print(bs.p)\n"
   ]
  },
  {
   "cell_type": "markdown",
   "metadata": {},
   "source": [
    "**<font color='blue'>Exercise 6: Handle the exception thrown by the code below by using <code>try</code> and <code>except</code> blocks.**</font>"
   ]
  },
  {
   "cell_type": "code",
   "execution_count": 19,
   "metadata": {},
   "outputs": [
    {
     "name": "stdout",
     "output_type": "stream",
     "text": [
      "1\n",
      "4\n",
      "9\n"
     ]
    },
    {
     "ename": "TypeError",
     "evalue": "unsupported operand type(s) for ** or pow(): 'str' and 'int'",
     "output_type": "error",
     "traceback": [
      "\u001b[1;31m---------------------------------------------------------------------------\u001b[0m",
      "\u001b[1;31mTypeError\u001b[0m                                 Traceback (most recent call last)",
      "\u001b[1;32m~\\AppData\\Local\\Temp/ipykernel_6684/120727992.py\u001b[0m in \u001b[0;36m<module>\u001b[1;34m\u001b[0m\n\u001b[0;32m      1\u001b[0m \u001b[1;32mfor\u001b[0m \u001b[0mi\u001b[0m \u001b[1;32min\u001b[0m \u001b[1;33m[\u001b[0m\u001b[1;36m1\u001b[0m\u001b[1;33m,\u001b[0m\u001b[1;36m2\u001b[0m\u001b[1;33m,\u001b[0m\u001b[1;36m3\u001b[0m\u001b[1;33m,\u001b[0m\u001b[1;34m'a'\u001b[0m\u001b[1;33m,\u001b[0m\u001b[1;34m'b'\u001b[0m\u001b[1;33m,\u001b[0m\u001b[1;36m4\u001b[0m\u001b[1;33m,\u001b[0m\u001b[1;36m5\u001b[0m\u001b[1;33m,\u001b[0m\u001b[1;34m'c'\u001b[0m\u001b[1;33m]\u001b[0m\u001b[1;33m:\u001b[0m\u001b[1;33m\u001b[0m\u001b[1;33m\u001b[0m\u001b[0m\n\u001b[1;32m----> 2\u001b[1;33m     \u001b[0mprint\u001b[0m\u001b[1;33m(\u001b[0m\u001b[0mi\u001b[0m\u001b[1;33m**\u001b[0m\u001b[1;36m2\u001b[0m\u001b[1;33m)\u001b[0m\u001b[1;33m\u001b[0m\u001b[1;33m\u001b[0m\u001b[0m\n\u001b[0m",
      "\u001b[1;31mTypeError\u001b[0m: unsupported operand type(s) for ** or pow(): 'str' and 'int'"
     ]
    }
   ],
   "source": [
    "for i in [1,2,3,'a','b',4,5,'c']:\n",
    "    print(i**2)"
   ]
  },
  {
   "cell_type": "code",
   "execution_count": 5,
   "metadata": {},
   "outputs": [
    {
     "name": "stdout",
     "output_type": "stream",
     "text": [
      "1\n",
      "4\n",
      "9\n",
      "this must be int: a\n",
      "this must be int: b\n",
      "16\n",
      "25\n",
      "this must be int: c\n"
     ]
    }
   ],
   "source": [
    "for i in [1,2,3,'a','b',4,5,'c']:\n",
    "    try:\n",
    "        print(i**2)\n",
    "    except TypeError:\n",
    "        print('this must be int:',i)\n",
    "\n",
    "\n"
   ]
  },
  {
   "cell_type": "markdown",
   "metadata": {},
   "source": [
    "**<font color='blue'>Exercise 7: Modify the code below to handle both `HTTPError` and `URLError` exceptions.You can use https://pythonscrapingthisurldoesnotexist.com and http://www.pythonscraping.com/pages/page90.html for testing.**</font>"
   ]
  },
  {
   "cell_type": "code",
   "execution_count": 5,
   "metadata": {
    "scrolled": true
   },
   "outputs": [
    {
     "name": "stdout",
     "output_type": "stream",
     "text": [
      "HTTP Error 404: Not Found\n"
     ]
    }
   ],
   "source": [
    "from urllib.request import urlopen\n",
    "from urllib.error import HTTPError\n",
    "from urllib.error import URLError\n",
    "\n",
    "try:\n",
    "    html = urlopen(\"https://pythonscraping.com/pages/page90.html\")\n",
    "except HTTPError as e:\n",
    "    print(e)\n",
    "except URLError:\n",
    "    print(\"The server returned an URL error\")\n",
    "else:\n",
    "    print(html.read())"
   ]
  },
  {
   "cell_type": "markdown",
   "metadata": {},
   "source": [
    "**<font color=blue>Exercise 8: Write a function that returns the lesser of two given numbers *if* both numbers are even, but returns the greater if one or both numbers are odd.**</font>\n",
    "\n",
    "*Hint: you can use `min()` and `max()` functions*.\n",
    "\n",
    "    lesser_of_two_evens(2,4) --> 2\n",
    "    lesser_of_two_evens(2,5) --> 5"
   ]
  },
  {
   "cell_type": "code",
   "execution_count": 27,
   "metadata": {},
   "outputs": [],
   "source": [
    "def lesser_of_both_even(num1,num2):\n",
    "# returns the lesser of two given numbers if both numbers are even, but returns the greater if one or both numbers are odd.\n",
    "    if num1%2 == 0 and num2%2 == 0:\n",
    "        return min(num1,num2)\n",
    "    else:\n",
    "        return max(num1,num2)\n"
   ]
  },
  {
   "cell_type": "code",
   "execution_count": 28,
   "metadata": {},
   "outputs": [
    {
     "data": {
      "text/plain": [
       "4"
      ]
     },
     "execution_count": 28,
     "metadata": {},
     "output_type": "execute_result"
    }
   ],
   "source": [
    "lesser_of_both_even(4,6)"
   ]
  },
  {
   "cell_type": "code",
   "execution_count": 29,
   "metadata": {},
   "outputs": [
    {
     "data": {
      "text/plain": [
       "5"
      ]
     },
     "execution_count": 29,
     "metadata": {},
     "output_type": "execute_result"
    }
   ],
   "source": [
    "lesser_of_both_even(4,5)"
   ]
  },
  {
   "cell_type": "markdown",
   "metadata": {},
   "source": [
    "**<font color=blue> Exercise 9: Write a function that takes a two-word string and returns `True` if both words begin with the same letter.**</font> \n",
    "\n",
    "*Hint: You can use `split()` method and string indexing.*\n",
    "\n",
    "    string_crackers('Breaking Bad') --> True\n",
    "    string_crackers('Crazy Kangaroo') --> False"
   ]
  },
  {
   "cell_type": "code",
   "execution_count": 31,
   "metadata": {},
   "outputs": [],
   "source": [
    "# Mine:\n",
    "def two_word_crackers(words):\n",
    "# takes a two-word string and returns True if both words begin with the same letter.\n",
    "    word1 = words.split(\" \")[0].lower()\n",
    "    word2 = words.split(\" \")[1].lower()\n",
    "    if word1[0] == word2[0]:\n",
    "        return True\n",
    "    else:\n",
    "        return False\n",
    "\n"
   ]
  },
  {
   "cell_type": "code",
   "execution_count": 32,
   "metadata": {},
   "outputs": [
    {
     "data": {
      "text/plain": [
       "True"
      ]
     },
     "execution_count": 32,
     "metadata": {},
     "output_type": "execute_result"
    }
   ],
   "source": [
    "two_word_crackers('Breaking bad')"
   ]
  },
  {
   "cell_type": "code",
   "execution_count": 33,
   "metadata": {},
   "outputs": [
    {
     "data": {
      "text/plain": [
       "False"
      ]
     },
     "execution_count": 33,
     "metadata": {},
     "output_type": "execute_result"
    }
   ],
   "source": [
    "two_word_crackers('Crazy Kangaroo')"
   ]
  },
  {
   "cell_type": "code",
   "execution_count": 7,
   "metadata": {},
   "outputs": [],
   "source": [
    "# Solution:\n",
    "def string_crackers(text):\n",
    "    wordlist = text.split()\n",
    "    return wordlist[0][0] == wordlist[1][0]"
   ]
  },
  {
   "cell_type": "code",
   "execution_count": 8,
   "metadata": {},
   "outputs": [
    {
     "data": {
      "text/plain": [
       "True"
      ]
     },
     "execution_count": 8,
     "metadata": {},
     "output_type": "execute_result"
    }
   ],
   "source": [
    "# Check\n",
    "string_crackers('Breaking Bad')"
   ]
  },
  {
   "cell_type": "code",
   "execution_count": 9,
   "metadata": {},
   "outputs": [
    {
     "data": {
      "text/plain": [
       "False"
      ]
     },
     "execution_count": 9,
     "metadata": {},
     "output_type": "execute_result"
    }
   ],
   "source": [
    "# Check\n",
    "string_crackers('Crazy Kangaroo') "
   ]
  },
  {
   "cell_type": "markdown",
   "metadata": {},
   "source": [
    "**<font color=blue> Exercise 10: Write a function that takes two inputs, a string and a letter, and returns the the number of times the letter appears in the string:**</font>\n",
    "\n",
    "letter_counter('banana','a') --> 3"
   ]
  },
  {
   "cell_type": "code",
   "execution_count": 34,
   "metadata": {},
   "outputs": [],
   "source": [
    "# Mine:\n",
    "def letter_counter(string, letter):\n",
    "  return sum(letter == i for i in string)\n",
    "\n"
   ]
  },
  {
   "cell_type": "code",
   "execution_count": 35,
   "metadata": {},
   "outputs": [
    {
     "data": {
      "text/plain": [
       "3"
      ]
     },
     "execution_count": 35,
     "metadata": {},
     "output_type": "execute_result"
    }
   ],
   "source": [
    "letter_counter('banana','a')"
   ]
  },
  {
   "cell_type": "code",
   "execution_count": 10,
   "metadata": {},
   "outputs": [],
   "source": [
    "# Solution:\n",
    "def letters_counter(word,letter):\n",
    "    count = 0\n",
    "    for character in word:\n",
    "        if character == letter:\n",
    "            count = count + 1\n",
    "    return count"
   ]
  },
  {
   "cell_type": "code",
   "execution_count": 11,
   "metadata": {},
   "outputs": [
    {
     "data": {
      "text/plain": [
       "3"
      ]
     },
     "execution_count": 11,
     "metadata": {},
     "output_type": "execute_result"
    }
   ],
   "source": [
    "letters_counter('banana','a')"
   ]
  },
  {
   "cell_type": "markdown",
   "metadata": {},
   "source": [
    "**<font color=blue> Exercise 11: Write a function named `getTitle`, which takes a URL as input and returns the title of the webpage as output. Try to handle all potential exceptions.</font>**\n",
    "\n",
    "Here are related pieces of code that we have developed in the previous exercises."
   ]
  },
  {
   "cell_type": "code",
   "execution_count": 15,
   "metadata": {},
   "outputs": [
    {
     "name": "stdout",
     "output_type": "stream",
     "text": [
      "<title>A Useful Page</title>\n"
     ]
    }
   ],
   "source": [
    "# to open a URL:\n",
    "from urllib.request import urlopen\n",
    "from urllib.error import HTTPError\n",
    "from urllib.error import URLError\n",
    "from bs4 import BeautifulSoup\n",
    "\n",
    "url = 'http://pythonscraping.com/pages/page1.html'\n",
    "def getTitle(url):\n",
    "    html = urlopen(url)\n",
    "    bs = BeautifulSoup(html.read(), 'html.parser')\n",
    "    return bs.title\n",
    "try:\n",
    "    title = getTitle(url)\n",
    "except HTTPError as e:\n",
    "    print(e)\n",
    "except URLError as e:\n",
    "    print('The server could not be found!')\n",
    "except AttributeError as e:\n",
    "    print('Tag was not found')\n",
    "else:\n",
    "    if title == None:\n",
    "        print ('Page has no title')\n",
    "    else:\n",
    "        print(title)"
   ]
  },
  {
   "cell_type": "code",
   "execution_count": 16,
   "metadata": {},
   "outputs": [],
   "source": [
    "# Method 2:\n",
    "\n",
    "def getTitles(url):\n",
    "    try:\n",
    "        html = urlopen(url)\n",
    "    except HTTPError as e:\n",
    "        print(e)\n",
    "        return None\n",
    "    except URLError as e:\n",
    "        print('The server could not be found!')\n",
    "        return None\n",
    "    bs = BeautifulSoup(html.read(), 'html.parser')\n",
    "    try:\n",
    "        page_title = bs.title\n",
    "    except AttributeError as e:\n",
    "        print('Tag was not found')\n",
    "        return None\n",
    "    else:\n",
    "        if page_title == None:\n",
    "            print ('Page has no title')\n",
    "            return None\n",
    "        else:\n",
    "            return page_title"
   ]
  },
  {
   "cell_type": "code",
   "execution_count": 17,
   "metadata": {},
   "outputs": [
    {
     "data": {
      "text/plain": [
       "<title>A Useful Page</title>"
      ]
     },
     "execution_count": 17,
     "metadata": {},
     "output_type": "execute_result"
    }
   ],
   "source": [
    "getTitles(url)"
   ]
  }
 ],
 "metadata": {
  "kernelspec": {
   "display_name": "Python 3 (ipykernel)",
   "language": "python",
   "name": "python3"
  },
  "language_info": {
   "codemirror_mode": {
    "name": "ipython",
    "version": 3
   },
   "file_extension": ".py",
   "mimetype": "text/x-python",
   "name": "python",
   "nbconvert_exporter": "python",
   "pygments_lexer": "ipython3",
   "version": "3.9.7"
  }
 },
 "nbformat": 4,
 "nbformat_minor": 4
}
