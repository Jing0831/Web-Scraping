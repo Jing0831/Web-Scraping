{
 "cells": [
  {
   "cell_type": "markdown",
   "metadata": {},
   "source": [
    "## Exercise 1:\n",
    "Write a Python program that asks the user to input an integer number and prompts the user when the number is both divisible by 7 and multiple of 5."
   ]
  },
  {
   "cell_type": "code",
   "execution_count": 1,
   "metadata": {},
   "outputs": [
    {
     "name": "stdout",
     "output_type": "stream",
     "text": [
      "Enter an integer : 7\n",
      "The number can't be divisible by 7 or is not multiple of 5\n"
     ]
    }
   ],
   "source": [
    "# Mine:\n",
    "num = int(input('Enter an integer : '))\n",
    "if num % 7 == 0 and num % 5 == 0:\n",
    "   print('The number is both divisible by 7 and multiple of 5')\n",
    "else: print(\"The number can't be divisible by 7 or is not multiple of 5\")"
   ]
  },
  {
   "cell_type": "code",
   "execution_count": 2,
   "metadata": {},
   "outputs": [
    {
     "name": "stdout",
     "output_type": "stream",
     "text": [
      "Enter an integer35\n",
      "35 is both divisible by 7 and 5.\n"
     ]
    }
   ],
   "source": [
    "# Solution:\n",
    "x=int(input(\"Enter an integer\"))    \n",
    "if (x%7==0) and (x%5==0):\n",
    "        print('{} is both divisible by 7 and 5.'.format(x))"
   ]
  },
  {
   "cell_type": "markdown",
   "metadata": {},
   "source": [
    "## Exercise 2:\n",
    "Write a Python program that takes a student's ID and final grade as input and prints the ID and letter grade based on the following scheme:  \n",
    "<table border=\"1\" class=\"docutils\">\n",
    "<colgroup>\n",
    "<col width=\"65%\" />\n",
    "<col width=\"35%\" />\n",
    "</colgroup>\n",
    "<thead valign=\"bottom\">\n",
    "<tr class=\"row-odd\"><th class=\"head\">Weighted final score</th>\n",
    "<th class=\"head\">Final grade</th>\n",
    "</tr>\n",
    "</thead>\n",
    "<tbody valign=\"top\">\n",
    "<tr class=\"row-even\"><td>80 &lt;= mark &lt;= 100</td>\n",
    "<td>A</td>\n",
    "</tr>\n",
    "<tr class=\"row-odd\"><td>70 &lt;= mark &lt; 80</td>\n",
    "<td>B</td>\n",
    "</tr>\n",
    "<tr class=\"row-even\"><td>60 &lt;= mark &lt; 70</td>\n",
    "<td>C</td>\n",
    "</tr>\n",
    "<tr class=\"row-odd\"><td>50 &lt;= mark &lt; 60</td>\n",
    "<td>D</td>\n",
    "</tr>\n",
    "<tr class=\"row-even\"><td>mark &lt; 50</td>\n",
    "<td>F</td>\n",
    "</tr>\n",
    "</tbody>\n",
    "</table>"
   ]
  },
  {
   "cell_type": "code",
   "execution_count": 4,
   "metadata": {},
   "outputs": [
    {
     "name": "stdout",
     "output_type": "stream",
     "text": [
      "Please Enter Student's ID:777\n",
      "Please Enter Student's Final Score:44\n",
      "Student 777: Final Grade is F\n"
     ]
    }
   ],
   "source": [
    "# Mine:\n",
    "id = input(\"Please Enter Student's ID:\")\n",
    "score = int(input(\"Please Enter Student's Final Score:\"))\n",
    "if score >= 80:\n",
    "    print('Student '+ id + ': Final Grade is A')\n",
    "elif score >= 70:\n",
    "    print('Student '+ id + ': Final Grade is B')\n",
    "elif score >= 60:\n",
    "    print('Student '+ id + ': Final Grade is C')\n",
    "elif score >= 50:\n",
    "    print('Student '+ id + ': Final Grade is D')\n",
    "else: print('Student '+ id + ': Final Grade is F')"
   ]
  },
  {
   "cell_type": "code",
   "execution_count": 3,
   "metadata": {},
   "outputs": [
    {
     "name": "stdout",
     "output_type": "stream",
     "text": [
      "Enter your student ID:777\n",
      "Enter your final grade: 44\n",
      "Final grade of the student with ID 777 is 44, which is a(an) F.\n"
     ]
    }
   ],
   "source": [
    "ID = input('Enter your student ID:')\n",
    "final_grade = int(input('Enter your final grade: '))\n",
    "if final_grade >= 80:\n",
    "    letter_grade = 'A'\n",
    "elif final_grade >= 70:\n",
    "    letter_grade = 'B'\n",
    "elif final_grade >= 60:\n",
    "    letter_grade = 'C'\n",
    "elif final_grade >= 50:\n",
    "    letter_grade = 'D'\n",
    "else:\n",
    "    letter_grade = 'F'\n",
    "    \n",
    "print('Final grade of the student with ID {} is {}, which is a(an) {}.'.format(ID,final_grade, letter_grade))"
   ]
  },
  {
   "cell_type": "markdown",
   "metadata": {
    "collapsed": true
   },
   "source": [
    "## Exercise 3: \n",
    "Write a Python program to find those numbers which are divisible by 7 and multiple of 5, between 1500 and 2700 (both included)."
   ]
  },
  {
   "cell_type": "code",
   "execution_count": 10,
   "metadata": {},
   "outputs": [
    {
     "name": "stdout",
     "output_type": "stream",
     "text": [
      "1505\n",
      "1540\n",
      "1575\n",
      "1610\n",
      "1645\n",
      "1680\n",
      "1715\n",
      "1750\n",
      "1785\n",
      "1820\n",
      "1855\n",
      "1890\n",
      "1925\n",
      "1960\n",
      "1995\n",
      "2030\n",
      "2065\n",
      "2100\n",
      "2135\n",
      "2170\n",
      "2205\n",
      "2240\n",
      "2275\n",
      "2310\n",
      "2345\n",
      "2380\n",
      "2415\n",
      "2450\n",
      "2485\n",
      "2520\n",
      "2555\n",
      "2590\n",
      "2625\n",
      "2660\n",
      "2695\n"
     ]
    }
   ],
   "source": [
    "# Mine:\n",
    "for num in range(1500,2701):\n",
    "    if num % 7 == 0 and num % 5 == 0:\n",
    "        print(num)"
   ]
  },
  {
   "cell_type": "code",
   "execution_count": 5,
   "metadata": {},
   "outputs": [
    {
     "name": "stdout",
     "output_type": "stream",
     "text": [
      "1505,1540,1575,1610,1645,1680,1715,1750,1785,1820,1855,1890,1925,1960,1995,2030,2065,2100,2135,2170,2205,2240,2275,2310,2345,2380,2415,2450,2485,2520,2555,2590,2625,2660,2695\n"
     ]
    }
   ],
   "source": [
    "# Solution:\n",
    "nl=[]\n",
    "for x in range(1500, 2701):\n",
    "    if (x%7==0) and (x%5==0):\n",
    "        nl.append(str(x))\n",
    "print (','.join(nl))"
   ]
  },
  {
   "cell_type": "markdown",
   "metadata": {},
   "source": [
    "## Exercise 4:\n",
    "\n",
    "Write a Python program that accepts a word from the user and reverses it. "
   ]
  },
  {
   "cell_type": "code",
   "execution_count": 7,
   "metadata": {},
   "outputs": [
    {
     "name": "stdout",
     "output_type": "stream",
     "text": [
      "Enter a word:jingyi\n",
      "iygnij\n"
     ]
    }
   ],
   "source": [
    "# Mine:\n",
    "string = input('Enter a word:')\n",
    "print(string[::-1])"
   ]
  },
  {
   "cell_type": "code",
   "execution_count": 11,
   "metadata": {},
   "outputs": [
    {
     "name": "stdout",
     "output_type": "stream",
     "text": [
      "Input a word to reverse: jingyi\n",
      "iygnij\n",
      "\n"
     ]
    }
   ],
   "source": [
    "# Solution:\n",
    "word = str(input(\"Input a word to reverse: \"))\n",
    "\n",
    "for char_index in range(len(word) - 1, -1, -1):\n",
    "  print(word[char_index], end=\"\")\n",
    "print(\"\\n\")"
   ]
  }
 ],
 "metadata": {
  "kernelspec": {
   "display_name": "Python 3 (ipykernel)",
   "language": "python",
   "name": "python3"
  },
  "language_info": {
   "codemirror_mode": {
    "name": "ipython",
    "version": 3
   },
   "file_extension": ".py",
   "mimetype": "text/x-python",
   "name": "python",
   "nbconvert_exporter": "python",
   "pygments_lexer": "ipython3",
   "version": "3.9.7"
  }
 },
 "nbformat": 4,
 "nbformat_minor": 1
}
