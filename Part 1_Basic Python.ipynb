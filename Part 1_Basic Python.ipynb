{
 "cells": [
  {
   "cell_type": "markdown",
   "metadata": {},
   "source": [
    "# Part 1\n"
   ]
  },
  {
   "cell_type": "markdown",
   "metadata": {},
   "source": [
    "**Q1. Write a Python program that assigns grades to students at the end of the semester. The program must do the following:**\n",
    "- Ask the user to input a student number.\n",
    "- Ask the user to input the student's assignment mark (out of 100).\n",
    "- Ask the user to input student’s midterm mark (out of 100).\n",
    "- Calculate whether the student’s average so far is high enough for the student to be permitted to write the final examination. If the average of the assignment and midterm marks is lower than 40%, the student should automatically get an F grade. In this case the program should print the student ID, their grade, and a message that the student is not permitted to write the final exam, and then exit without performing the following steps.\n",
    "-\tAsk the user to input the student’s final examination mark.\n",
    "-\tCalculate the student’s final grade. The assignment and midterm each has a weight of 25% and the final examination makes up the remaining 50%.\n",
    "-\tCalculate the student's letter grade according to the table below.\n",
    "<table border=\"1\" class=\"docutils\">\n",
    "<colgroup>\n",
    "<col width=\"65%\" />\n",
    "<col width=\"35%\" />\n",
    "</colgroup>\n",
    "<thead valign=\"bottom\">\n",
    "<tr class=\"row-odd\"><th class=\"head\">Weighted final score</th>\n",
    "<th class=\"head\">Final grade</th>\n",
    "</tr>\n",
    "</thead>\n",
    "<tbody valign=\"top\">\n",
    "<tr class=\"row-even\"><td>80 &lt;= mark &lt;= 100</td>\n",
    "<td>A</td>\n",
    "</tr>\n",
    "<tr class=\"row-odd\"><td>70 &lt;= mark &lt; 80</td>\n",
    "<td>B</td>\n",
    "</tr>\n",
    "<tr class=\"row-even\"><td>60 &lt;= mark &lt; 70</td>\n",
    "<td>C</td>\n",
    "</tr>\n",
    "<tr class=\"row-odd\"><td>50 &lt;= mark &lt; 60</td>\n",
    "<td>D</td>\n",
    "</tr>\n",
    "<tr class=\"row-even\"><td>mark &lt; 50</td>\n",
    "<td>F</td>\n",
    "</tr>\n",
    "</tbody>\n",
    "- Print the student ID along with the student letter grade. "
   ]
  },
  {
   "cell_type": "code",
   "execution_count": 13,
   "metadata": {},
   "outputs": [
    {
     "name": "stdout",
     "output_type": "stream",
     "text": [
      "Please Enter Student's ID number:111\n",
      "Please Enter the Student's Assignment Mark:20\n",
      "Please Enter the Student's Midterm Mark:40\n",
      "The Student 111: Final Grade is F. \n",
      "This student is NOT permitted to write the final exam.\n"
     ]
    }
   ],
   "source": [
    "id = input(\"Please Enter Student's ID number:\")\n",
    "ass_mark = int(input(\"Please Enter the Student's Assignment Mark:\"))\n",
    "mid_mark = int(input(\"Please Enter the Student's Midterm Mark:\"))\n",
    "if (ass_mark+mid_mark)/2 < 40:\n",
    "    print(\"The Student \" + id + \": Final Grade is F. \\nThis student is NOT permitted to write the final exam.\")\n",
    "else:\n",
    "    final_exam = int(input(\"Please Enter the Student's Final Exam Mark：\"))\n",
    "    final = (ass_mark+mid_mark)*0.25 + final_exam*0.5\n",
    "    if final >= 80:\n",
    "        print(\"The Student \" + id + \": Final Grade is A\")\n",
    "    elif final >= 70:\n",
    "        print(\"The Student \" + id + \": Final Grade is B\")\n",
    "    elif final >= 60:\n",
    "        print(\"The Student \" + id + \": Final Grade is C\")\n",
    "    elif final >= 50:\n",
    "        print(\"The Student \" + id + \": Final Grade is D\")\n",
    "    else: print(\"The Student \" + id + \": Final Grade is F\")"
   ]
  },
  {
   "cell_type": "markdown",
   "metadata": {},
   "source": [
    "____\n",
    "\n",
    "**Q2. Write a program that prints the integers from 1 to 100, but for multiples of three prints \"Fizz\" instead of the number, for the multiples of five prints \"Buzz\", and for numbers which are multiples of both three and five prints \"FizzBuzz\".**"
   ]
  },
  {
   "cell_type": "code",
   "execution_count": 11,
   "metadata": {},
   "outputs": [
    {
     "name": "stdout",
     "output_type": "stream",
     "text": [
      "1\n",
      "2\n",
      "Fizz\n",
      "4\n",
      "Buzz\n",
      "Fizz\n",
      "7\n",
      "8\n",
      "Fizz\n",
      "Buzz\n",
      "11\n",
      "Fizz\n",
      "13\n",
      "14\n",
      "FizzBuzz\n",
      "16\n",
      "17\n",
      "Fizz\n",
      "19\n",
      "Buzz\n",
      "Fizz\n",
      "22\n",
      "23\n",
      "Fizz\n",
      "Buzz\n",
      "26\n",
      "Fizz\n",
      "28\n",
      "29\n",
      "FizzBuzz\n",
      "31\n",
      "32\n",
      "Fizz\n",
      "34\n",
      "Buzz\n",
      "Fizz\n",
      "37\n",
      "38\n",
      "Fizz\n",
      "Buzz\n",
      "41\n",
      "Fizz\n",
      "43\n",
      "44\n",
      "FizzBuzz\n",
      "46\n",
      "47\n",
      "Fizz\n",
      "49\n",
      "Buzz\n",
      "Fizz\n",
      "52\n",
      "53\n",
      "Fizz\n",
      "Buzz\n",
      "56\n",
      "Fizz\n",
      "58\n",
      "59\n",
      "FizzBuzz\n",
      "61\n",
      "62\n",
      "Fizz\n",
      "64\n",
      "Buzz\n",
      "Fizz\n",
      "67\n",
      "68\n",
      "Fizz\n",
      "Buzz\n",
      "71\n",
      "Fizz\n",
      "73\n",
      "74\n",
      "FizzBuzz\n",
      "76\n",
      "77\n",
      "Fizz\n",
      "79\n",
      "Buzz\n",
      "Fizz\n",
      "82\n",
      "83\n",
      "Fizz\n",
      "Buzz\n",
      "86\n",
      "Fizz\n",
      "88\n",
      "89\n",
      "FizzBuzz\n",
      "91\n",
      "92\n",
      "Fizz\n",
      "94\n",
      "Buzz\n",
      "Fizz\n",
      "97\n",
      "98\n",
      "Fizz\n",
      "Buzz\n"
     ]
    }
   ],
   "source": [
    "for i in range(1,101):\n",
    "    if i % 3 == 0 and i % 5 != 0:\n",
    "        print(\"Fizz\")\n",
    "    elif i % 3 != 0 and i % 5 == 0:\n",
    "        print(\"Buzz\")\n",
    "    elif i % 3 == 0 and i % 5 == 0:\n",
    "        print(\"FizzBuzz\")\n",
    "    else:\n",
    "        print(i)"
   ]
  },
  {
   "cell_type": "markdown",
   "metadata": {},
   "source": [
    "_____\n",
    "**Q3. Using <code>for</code>, .split(), and <code>if</code>, develop a program that prints out words in the paragraph below that start with 's' (either lower case or upper case):**"
   ]
  },
  {
   "cell_type": "markdown",
   "metadata": {},
   "source": [
    "Matt Damon turned heads with his performance as Supreme Court nominee Brett Kavanaugh on the season premiere of Saturday Night Live this past weekend. But at least one person was predictably unimpressed by the Cambridge native’s cameo. Damon’s longtime frenemy Jimmy Kimmel fired off the latest salvo in their mock feud during his monologue on Monday’s episode of Jimmy Kimmel Live. 'What a surprise that Matt Damon would have no other plans on a Saturday,' Kimmel said, drawing laughter and applause from the audience."
   ]
  },
  {
   "cell_type": "code",
   "execution_count": 51,
   "metadata": {},
   "outputs": [
    {
     "name": "stdout",
     "output_type": "stream",
     "text": [
      "Supreme\n",
      "season\n",
      "Saturday\n",
      "salvo\n",
      "surprise\n",
      "Saturday\n",
      "said\n"
     ]
    }
   ],
   "source": [
    "para = \"Matt Damon turned heads with his performance as Supreme Court nominee Brett Kavanaugh on the season premiere of Saturday Night Live this past weekend. But at least one person was predictably unimpressed by the Cambridge native’s cameo. Damon’s longtime frenemy Jimmy Kimmel fired off the latest salvo in their mock feud during his monologue on Monday’s episode of Jimmy Kimmel Live. 'What a surprise that Matt Damon would have no other plans on a Saturday,' Kimmel said, drawing laughter and applause from the audience.\"\n",
    "para = para.replace(\",\", \"\")\n",
    "para = para.replace(\"' \", \" \")\n",
    "mylist = para.split(\" \")\n",
    "for word in mylist:\n",
    "   if word[0].lower() == \"s\":\n",
    "      print(word)"
   ]
  },
  {
   "cell_type": "markdown",
   "metadata": {},
   "source": [
    "_____\n",
    "**Q4. In the above question, write a program that prints all the words that end with the sequence of letters 'ed' (e.g., 'turned' and 'fired').**"
   ]
  },
  {
   "cell_type": "code",
   "execution_count": 52,
   "metadata": {},
   "outputs": [
    {
     "name": "stdout",
     "output_type": "stream",
     "text": [
      "turned\n",
      "unimpressed\n",
      "fired\n"
     ]
    }
   ],
   "source": [
    "para = \"Matt Damon turned heads with his performance as Supreme Court nominee Brett Kavanaugh on the season premiere of Saturday Night Live this past weekend. But at least one person was predictably unimpressed by the Cambridge native’s cameo. Damon’s longtime frenemy Jimmy Kimmel fired off the latest salvo in their mock feud during his monologue on Monday’s episode of Jimmy Kimmel Live. 'What a surprise that Matt Damon would have no other plans on a Saturday,' Kimmel said, drawing laughter and applause from the audience.\"\n",
    "para = para.replace(\",\", \"\")\n",
    "para = para.replace(\"' \", \" \")\n",
    "mylist = para.split(\" \")\n",
    "for word in mylist:\n",
    "   if word[-2:].lower() == \"ed\":\n",
    "      print(word)"
   ]
  },
  {
   "cell_type": "markdown",
   "metadata": {},
   "source": [
    "___\n",
    "**Q5. Write Python program that takes the two lists, for example:**\n",
    "\n",
    "\ta = [1, 'a', 3, 5, 8, 13, 21, 34, 20, 'b', 89]\n",
    "\tb = [11, 20, 3, 4, 5, 6, 7, 8, 'c', 10, 'b', 12, 13]\n",
    "    \n",
    "**and returns the intersection (i.e., common elements between the lists) without duplicates.**"
   ]
  },
  {
   "cell_type": "code",
   "execution_count": 55,
   "metadata": {},
   "outputs": [
    {
     "name": "stdout",
     "output_type": "stream",
     "text": [
      "[3, 'b', 5, 8, 13, 20]\n"
     ]
    }
   ],
   "source": [
    "del list\n",
    "def intersection(a,b):\n",
    "   new_list = list(set(a).intersection(b))\n",
    "   print(new_list)\n",
    "    \n",
    "a = [1, 'a', 3, 5, 8, 13, 21, 34, 20, 'b', 89]\n",
    "b = [11, 20, 3, 4, 5, 6, 7, 8, 'c', 10, 'b', 12, 13]\n",
    "\n",
    "intersection(a,b)"
   ]
  },
  {
   "attachments": {
    "Untitled.png": {
     "image/png": "[encoded data removed]"
    }
   },
   "cell_type": "markdown",
   "metadata": {},
   "source": [
    "___\n",
    "**Q6. Use nested `for` loops to develp a program that constructs the following pattern:**\n",
    "![Untitled.png](attachment:Untitled.png)"
   ]
  },
  {
   "cell_type": "code",
   "execution_count": 57,
   "metadata": {},
   "outputs": [
    {
     "name": "stdout",
     "output_type": "stream",
     "text": [
      "* \n",
      "* * \n",
      "* * * \n",
      "* * * * \n",
      "* * * * * \n",
      "* * * * * * \n",
      "* * * * * * * \n",
      "* * * * * * \n",
      "* * * * * \n",
      "* * * * \n",
      "* * * \n",
      "* * \n",
      "* \n"
     ]
    }
   ],
   "source": [
    "for i in range (1,14):\n",
    "    if i <= 7:\n",
    "        print(\"* \"*i)\n",
    "    else: print(\"* \"* (14-i))"
   ]
  },
  {
   "cell_type": "markdown",
   "metadata": {},
   "source": [
    "____\n",
    "**Q7. Write a program that calculates income tax given the following tax brackets:**\n",
    "\n",
    "\n",
    "<table>\n",
    "<thead>\n",
    "<tr>\n",
    "<th>Income cap</th>\n",
    "<th>Tax rate</th>\n",
    "</tr>\n",
    "</thead>\n",
    "<tbody>\n",
    "<tr>\n",
    "<td>\\$10,000</td>\n",
    "<td>0%</td>\n",
    "</tr>\n",
    "<tr>\n",
    "<td>\\$30,000</td>\n",
    "<td>10%</td>\n",
    "</tr>\n",
    "<tr>\n",
    "<td>\\$100,000</td>\n",
    "<td>25%</td>\n",
    "</tr>\n",
    "<tr>\n",
    "<td>more</td>\n",
    "<td>40%</td>\n",
    "</tr>\n",
    "</tbody>\n",
    "</table>\n",
    "\n",
    "    \n",
    "<p> This is how tax brackets work: If one's income is less than \\$10,000, the tax is \\$0. If income is between \\$10,000 and \\$30,000, tax is 10% of the income in excess of \\$10,000. If income is between \\$30,000 and \\$100,000, tax is 10% of the \\$20,000 of income between \\$10,000 and \\$30,000 (or \\$2,000) plus 25% of the income over \\$30,000. If income is over \\$100,000, tax is 10% of the \\$20,000 of income between \\$10,000 and \\$30,000 (or \\$2,000), plus 25% of the income between \\$30,000 and \\$100,000 (or \\$17,500), plus 40% of income over \\$100,000.<\\p>\n",
    "    \n",
    "<p> For example, for an income of \\$123,456, your tax is \\$2,000 plus \\$17,500 plus 40% of \\$23,456 (or \\$9,382.40), a total tax of \\$28,882.40.<\\p>"
   ]
  },
  {
   "cell_type": "code",
   "execution_count": 66,
   "metadata": {},
   "outputs": [
    {
     "name": "stdout",
     "output_type": "stream",
     "text": [
      "Your Total Tax is:  $28,882.40\n"
     ]
    }
   ],
   "source": [
    "def tax_calculator(income):\n",
    "    if income > 100000:\n",
    "        tax = (income-100000)*0.4 + 19500\n",
    "    elif income > 30000:\n",
    "        tax = (income-30000)*0.25 + 2000\n",
    "    elif income > 10000:\n",
    "        tax = (income-10000)* 0.1\n",
    "    else: tax = 0\n",
    "    print (\"Your Total Tax is: \",'${:0,.2f}'.format(tax))\n",
    "    \n",
    "tax_calculator(123456)"
   ]
  },
  {
   "cell_type": "markdown",
   "metadata": {},
   "source": [
    "____\n",
    "**Q8. Write a function that takes a sequence of letters and provides a list of tuples, where each tuple shows the length of the uninterrupted sequence of each letter in the string, similar to the examples below:**\n",
    "\n",
    "- Input: `'aaaaabbbccad'` ---- Output: `[('a',5), ('b',3), ('c',2), ('a',1), ('d',1)]`\n",
    "- Input: `'cdaabbbcce'`   ---- Output: `[('c',1), ('d',1), ('a',2), ('b',3), ('c',2), ('e',1)]`\n",
    "\n"
   ]
  },
  {
   "cell_type": "code",
   "execution_count": 173,
   "metadata": {},
   "outputs": [],
   "source": [
    "def function(x):\n",
    "    mylist = []\n",
    "    n=1\n",
    "    for i in range(1,(len(x)+1)): \n",
    "        if i != len(x):\n",
    "            if x[i] != x[i-1]:\n",
    "                a = (x[i-1],n)\n",
    "                mylist.append(a)\n",
    "                n = 1\n",
    "            else: n = n + 1\n",
    "        else:\n",
    "            if x[i-1] != x[i-2]:\n",
    "                b = (x[i-1],1)\n",
    "                mylist.append(b)\n",
    "            else:\n",
    "                a = (x[i-1],n)\n",
    "                mylist.append(a)\n",
    "    print(mylist)\n",
    "                \n",
    "                \n",
    "\n",
    "        \n",
    "        \n",
    "              \n",
    "            \n",
    "        \n",
    "        "
   ]
  },
  {
   "cell_type": "code",
   "execution_count": 174,
   "metadata": {},
   "outputs": [
    {
     "name": "stdout",
     "output_type": "stream",
     "text": [
      "[('a', 5), ('b', 3), ('c', 2), ('a', 2)]\n"
     ]
    }
   ],
   "source": [
    "function(\"aaaaabbbccaa\")"
   ]
  },
  {
   "cell_type": "code",
   "execution_count": 175,
   "metadata": {},
   "outputs": [
    {
     "name": "stdout",
     "output_type": "stream",
     "text": [
      "[('a', 5), ('b', 3), ('c', 2), ('a', 1), ('b', 1)]\n"
     ]
    }
   ],
   "source": [
    "function(\"aaaaabbbccab\")"
   ]
  },
  {
   "cell_type": "code",
   "execution_count": 176,
   "metadata": {},
   "outputs": [
    {
     "name": "stdout",
     "output_type": "stream",
     "text": [
      "[('c', 1), ('d', 1), ('a', 2), ('b', 3), ('c', 2), ('e', 1)]\n"
     ]
    }
   ],
   "source": [
    "function(\"cdaabbbcce\")"
   ]
  },
  {
   "cell_type": "code",
   "execution_count": 11,
   "metadata": {},
   "outputs": [],
   "source": [
    "def seq_counter(string):\n",
    "    char_count_list = []\n",
    "    count = 1\n",
    "    pre_char = string[0]\n",
    "    for char in string[1:]:\n",
    "        if char != pre_char:\n",
    "            char_count_list.append((pre_char, count))\n",
    "            count = 1\n",
    "            pre_char = char\n",
    "        else:\n",
    "            count+=1\n",
    "    char_count_list.append((pre_char, count))\n",
    "    return char_count_list"
   ]
  },
  {
   "cell_type": "code",
   "execution_count": 12,
   "metadata": {},
   "outputs": [
    {
     "data": {
      "text/plain": [
       "[('a', 5), ('b', 3), ('c', 2), ('a', 2)]"
      ]
     },
     "execution_count": 12,
     "metadata": {},
     "output_type": "execute_result"
    }
   ],
   "source": [
    "seq_counter(\"aaaaabbbccaa\")"
   ]
  }
 ],
 "metadata": {
  "kernelspec": {
   "display_name": "Python 3 (ipykernel)",
   "language": "python",
   "name": "python3"
  },
  "language_info": {
   "codemirror_mode": {
    "name": "ipython",
    "version": 3
   },
   "file_extension": ".py",
   "mimetype": "text/x-python",
   "name": "python",
   "nbconvert_exporter": "python",
   "pygments_lexer": "ipython3",
   "version": "3.9.7"
  }
 },
 "nbformat": 4,
 "nbformat_minor": 4
}
